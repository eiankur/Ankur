{
 "cells": [
  {
   "cell_type": "markdown",
   "id": "f71aa5a6",
   "metadata": {},
   "source": [
    "# 1. Write a Python Program to Check if a Number is Positive, Negative or Zero?"
   ]
  },
  {
   "cell_type": "code",
   "execution_count": 25,
   "id": "89201f43",
   "metadata": {},
   "outputs": [
    {
     "name": "stdout",
     "output_type": "stream",
     "text": [
      "15\n",
      "15  is positive number\n"
     ]
    }
   ],
   "source": [
    "a = int(input())\n",
    "if a >0:\n",
    "    print( a, \" is positive number\")\n",
    "elif a==0:\n",
    "    print(a, \"is zero\")\n",
    "elif a<0:\n",
    "    print(a, \"is negative number\")"
   ]
  },
  {
   "cell_type": "markdown",
   "id": "b5e481bb",
   "metadata": {},
   "source": [
    "# 2.Write a Python Program to Check if a Number is Odd or Even?"
   ]
  },
  {
   "cell_type": "code",
   "execution_count": 37,
   "id": "2004eaba",
   "metadata": {},
   "outputs": [
    {
     "name": "stdout",
     "output_type": "stream",
     "text": [
      "5\n",
      "5  is odd number\n"
     ]
    }
   ],
   "source": [
    "a = int(input())\n",
    "if a%2 == 0:\n",
    "    print(a, \" is even number\")\n",
    "else :\n",
    "        print(a, \" is odd number\")"
   ]
  },
  {
   "cell_type": "markdown",
   "id": "e6b55fb1",
   "metadata": {},
   "source": [
    "# 3.Write a Python Program to Check Leap Year?"
   ]
  },
  {
   "cell_type": "code",
   "execution_count": 41,
   "id": "706b9062",
   "metadata": {},
   "outputs": [
    {
     "name": "stdout",
     "output_type": "stream",
     "text": [
      "2004\n",
      "2004  is leap year\n"
     ]
    }
   ],
   "source": [
    "year = int(input())\n",
    "if year%4==0 and year%100 != 0 or year%4000==0 :\n",
    "    print(year, \" is leap year\")\n",
    "else:\n",
    "        print(year, \"is not a leap year\")"
   ]
  },
  {
   "cell_type": "markdown",
   "id": "f5abd588",
   "metadata": {},
   "source": [
    "# 4. Write a Python Program to Check Prime Number?"
   ]
  },
  {
   "cell_type": "code",
   "execution_count": 42,
   "id": "149ccfcc",
   "metadata": {},
   "outputs": [
    {
     "name": "stdout",
     "output_type": "stream",
     "text": [
      "11\n",
      "11  is prime number\n"
     ]
    }
   ],
   "source": [
    "n = int(input())\n",
    "if n<2 :\n",
    "    print(n, \" is not a prime number\")\n",
    "else:\n",
    "    for i in range(2,n):\n",
    "        if n%i==0:\n",
    "            print(n, \" is not a prime number\")\n",
    "            break\n",
    "    else:\n",
    "        print(n, \" is prime number\")"
   ]
  },
  {
   "cell_type": "markdown",
   "id": "44093928",
   "metadata": {},
   "source": [
    "# 5.Write a Python Program to Print all Prime Numbers in an Interval of 1-10000?"
   ]
  },
  {
   "cell_type": "code",
   "execution_count": null,
   "id": "c28abfaf",
   "metadata": {},
   "outputs": [
    {
     "name": "stdout",
     "output_type": "stream",
     "text": [
      "begining of the interval 10\n"
     ]
    }
   ],
   "source": [
    "b= int(input(\"begining of the interval \" ))\n",
    "e= int(input(\"end of the interval \"))\n",
    "for i in range(b,e+1):\n",
    "    if i>1:\n",
    "        for k in range(2, i):\n",
    "            if i%k==0 :\n",
    "                break\n",
    "            else:\n",
    "                print(i)"
   ]
  },
  {
   "cell_type": "code",
   "execution_count": null,
   "id": "9d7c1dcf",
   "metadata": {},
   "outputs": [],
   "source": []
  },
  {
   "cell_type": "code",
   "execution_count": null,
   "id": "d0ae99f1",
   "metadata": {},
   "outputs": [],
   "source": []
  }
 ],
 "metadata": {
  "kernelspec": {
   "display_name": "Python 3",
   "language": "python",
   "name": "python3"
  },
  "language_info": {
   "codemirror_mode": {
    "name": "ipython",
    "version": 3
   },
   "file_extension": ".py",
   "mimetype": "text/x-python",
   "name": "python",
   "nbconvert_exporter": "python",
   "pygments_lexer": "ipython3",
   "version": "3.8.8"
  }
 },
 "nbformat": 4,
 "nbformat_minor": 5
}
