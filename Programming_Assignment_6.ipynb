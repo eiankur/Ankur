{
  "nbformat": 4,
  "nbformat_minor": 0,
  "metadata": {
    "colab": {
      "provenance": []
    },
    "kernelspec": {
      "name": "python3",
      "display_name": "Python 3"
    },
    "language_info": {
      "name": "python"
    }
  },
  "cells": [
    {
      "cell_type": "code",
      "execution_count": 21,
      "metadata": {
        "colab": {
          "base_uri": "https://localhost:8080/"
        },
        "id": "mgiZ1StpZhea",
        "outputId": "13676e44-0476-4cb3-a89f-e81189e5a018"
      },
      "outputs": [
        {
          "output_type": "stream",
          "name": "stdout",
          "text": [
            "Enter your number 12\n",
            "0\n",
            "1\n",
            "1\n",
            "2\n",
            "3\n",
            "5\n",
            "8\n",
            "13\n",
            "21\n",
            "34\n",
            "55\n",
            "89\n"
          ]
        }
      ],
      "source": [
        " ## 1. Write a Python Program to Display Fibonacci Sequence Using Recursion?\n",
        " \n",
        "def fibo(i):\n",
        "  if i==1:\n",
        "    return 0\n",
        "  if i==2:\n",
        "      return 1\n",
        "  else:\n",
        "      return (fibo(i-1)+fibo(i-2))\n",
        "n= int(input(\"Enter your number \"))\n",
        " for i in range(1, n+1) :\n",
        "   print(fibo(i))"
      ]
    },
    {
      "cell_type": "code",
      "source": [
        "## 2. Write a Python Program to Find Factorial of Number Using Recursion?\n",
        "\n",
        "def fact(n):\n",
        "  if n==1 or n==0 :\n",
        "     return 1\n",
        "  else :\n",
        "     return (n*fact(n-1))\n",
        "n= int(input(\"Enter the number you want factorial \"))\n",
        "print(fact(n))"
      ],
      "metadata": {
        "colab": {
          "base_uri": "https://localhost:8080/"
        },
        "id": "VcnwuS4vtJrJ",
        "outputId": "8f190730-2a1d-4831-fc10-870c3ee97987"
      },
      "execution_count": 42,
      "outputs": [
        {
          "output_type": "stream",
          "name": "stdout",
          "text": [
            "Enter the number you want factorial 4\n",
            "24\n"
          ]
        }
      ]
    },
    {
      "cell_type": "code",
      "source": [
        "## 3. Write a Python Program to calculate your Body Mass Index?\n",
        "\n",
        "Weight = float(input(\"Enter your weight in kg \"))\n",
        "Height = float(input(\"Enter your height in meter \"))\n",
        "BMI_INDEX = round(Weight/(Height**2))\n",
        "print(\"Your BMI INDEX is \", BMI_INDEX)"
      ],
      "metadata": {
        "colab": {
          "base_uri": "https://localhost:8080/"
        },
        "id": "9yxNaY-20pmm",
        "outputId": "677ff82d-bd68-4a30-885e-71274818926d"
      },
      "execution_count": 46,
      "outputs": [
        {
          "output_type": "stream",
          "name": "stdout",
          "text": [
            "Enter your weight in kg 66\n",
            "Enter your height in meter 1.67\n",
            "Your BMI INDEX is  24\n"
          ]
        }
      ]
    },
    {
      "cell_type": "code",
      "source": [
        "## 4. Write a Python Program to calculate the natural logarithm of any number?\n",
        "\n",
        "import math\n",
        "number = int(input(\"Enter the number \"))\n",
        "Answer = math.log(number)\n",
        "print(\"your value is \", Answer)"
      ],
      "metadata": {
        "colab": {
          "base_uri": "https://localhost:8080/"
        },
        "id": "li5t1jGz3OPf",
        "outputId": "71a2720f-6e37-4070-87e3-961834b92fed"
      },
      "execution_count": 48,
      "outputs": [
        {
          "output_type": "stream",
          "name": "stdout",
          "text": [
            "Enter the number 5\n",
            "your value is  1.6094379124341003\n"
          ]
        }
      ]
    },
    {
      "cell_type": "code",
      "source": [
        "## 5. Write a Python Program for cube sum of first n natural numbers?\n",
        "\n",
        "n= int(input(\"Enter your number \"))\n",
        "sum =0\n",
        "for i in range(1, n+1):\n",
        "  sum = sum + (i*i*i)\n",
        "print(sum)\n"
      ],
      "metadata": {
        "colab": {
          "base_uri": "https://localhost:8080/"
        },
        "id": "b7VEsqy14iO_",
        "outputId": "2cf1e7b0-a0a9-4e83-9f6e-3722c77b9f64"
      },
      "execution_count": 58,
      "outputs": [
        {
          "output_type": "stream",
          "name": "stdout",
          "text": [
            "Enter your number 4\n",
            "100\n"
          ]
        }
      ]
    },
    {
      "cell_type": "markdown",
      "source": [],
      "metadata": {
        "id": "aYC5VIjk4h3f"
      }
    },
    {
      "cell_type": "markdown",
      "source": [],
      "metadata": {
        "id": "refzbOOB3OBR"
      }
    }
  ]
}