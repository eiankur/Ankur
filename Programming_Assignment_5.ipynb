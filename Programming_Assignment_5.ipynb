{
  "nbformat": 4,
  "nbformat_minor": 0,
  "metadata": {
    "colab": {
      "provenance": [],
      "collapsed_sections": []
    },
    "kernelspec": {
      "name": "python3",
      "display_name": "Python 3"
    },
    "language_info": {
      "name": "python"
    }
  },
  "cells": [
    {
      "cell_type": "code",
      "execution_count": null,
      "metadata": {
        "id": "Sxc29U7Ox-Dl"
      },
      "outputs": [],
      "source": [
        "##1. Write a Python Program to Find LCM?"
      ]
    },
    {
      "cell_type": "markdown",
      "source": [],
      "metadata": {
        "id": "3qE6sd43zNyA"
      }
    },
    {
      "cell_type": "code",
      "source": [
        "def lcm(x, y):\n",
        "  if x > y:\n",
        "      z = x\n",
        "  else:\n",
        "      z = y\n",
        "  while(True):\n",
        "      if((z % x == 0) and (z % y == 0)):\n",
        "          lcm = z\n",
        "          break\n",
        "      z += 1\n",
        "  return lcm"
      ],
      "metadata": {
        "id": "P3rnXatbzRnv"
      },
      "execution_count": 1,
      "outputs": []
    },
    {
      "cell_type": "code",
      "source": [
        "lcm(4,6)"
      ],
      "metadata": {
        "colab": {
          "base_uri": "https://localhost:8080/"
        },
        "id": "hpBxiHbSzcWG",
        "outputId": "e8fe7669-1750-4fb0-9dc2-08adf982f5f6"
      },
      "execution_count": 2,
      "outputs": [
        {
          "output_type": "execute_result",
          "data": {
            "text/plain": [
              "12"
            ]
          },
          "metadata": {},
          "execution_count": 2
        }
      ]
    },
    {
      "cell_type": "code",
      "source": [
        "## 2. Write a Python Program to Find HCF?\n",
        "\n",
        "def calculate_hcf(x, y):  \n",
        "     \n",
        "    if x > y:  \n",
        "        smaller = y  \n",
        "    else:  \n",
        "        smaller = x  \n",
        "    for i in range(1,smaller + 1):  \n",
        "        if((x % i == 0) and (y % i == 0)):  \n",
        "            hcf = i  \n",
        "    return hcf  "
      ],
      "metadata": {
        "id": "KgWVwDSYzf4f"
      },
      "execution_count": 3,
      "outputs": []
    },
    {
      "cell_type": "code",
      "source": [
        "calculate_hcf (8,12)"
      ],
      "metadata": {
        "colab": {
          "base_uri": "https://localhost:8080/"
        },
        "id": "NYOUxLVf0OhL",
        "outputId": "26de8a2b-c44b-4309-a200-9d4fa1810176"
      },
      "execution_count": 5,
      "outputs": [
        {
          "output_type": "execute_result",
          "data": {
            "text/plain": [
              "4"
            ]
          },
          "metadata": {},
          "execution_count": 5
        }
      ]
    },
    {
      "cell_type": "code",
      "source": [
        "## 3. Write a Python Program to Convert Decimal to Binary, Octal and Hexadecimal?\n",
        "\n",
        "dec = int(input(\"Enter an integer: \"))\n",
        " \n",
        "print(\"The decimal value of\", dec, \"is:\")\n",
        "print(bin(dec), \"in binary.\")\n",
        "print(oct(dec), \"in octal.\")\n",
        "print(hex(dec), \"in hexadecimal.\")"
      ],
      "metadata": {
        "colab": {
          "base_uri": "https://localhost:8080/"
        },
        "id": "cHmk0P5l0T5S",
        "outputId": "1b843e41-7ac9-465a-9d40-88b80348d75f"
      },
      "execution_count": 6,
      "outputs": [
        {
          "output_type": "stream",
          "name": "stdout",
          "text": [
            "Enter an integer: 1000\n",
            "The decimal value of 1000 is:\n",
            "0b1111101000 in binary.\n",
            "0o1750 in octal.\n",
            "0x3e8 in hexadecimal.\n"
          ]
        }
      ]
    },
    {
      "cell_type": "code",
      "source": [
        "## 4. Write a Python Program To Find ASCII value of a character?\n",
        "\n",
        "char = str(input(\"Enter a chanacter \"))\n",
        "print(ord(char))"
      ],
      "metadata": {
        "colab": {
          "base_uri": "https://localhost:8080/"
        },
        "id": "j5D0lJ2r1l7Z",
        "outputId": "92a41e68-c5ff-4ab8-c47e-640312e65428"
      },
      "execution_count": 12,
      "outputs": [
        {
          "output_type": "stream",
          "name": "stdout",
          "text": [
            "Enter a chanacter a\n",
            "97\n"
          ]
        }
      ]
    },
    {
      "cell_type": "code",
      "source": [
        "## 5. Write a Python Program to Make a Simple Calculator with 4 basic mathematical operations?\n",
        "print(\"please select the operation\")\n",
        "print(\"a.add\")\n",
        "print(\"b. subtract\")\n",
        "print(\"c. multiply\")\n",
        "print(\"d.devision\")\n",
        "\n",
        "choice = input(\"Please enter choice (a / b / c / d): \")\n",
        "num1 = int(input(\"Enter the value1 \"))\n",
        "num2 = int(input(\"Enter the value2 \"))\n",
        "if choice == 'a':\n",
        "  print(num1+num2)\n",
        "elif choice =='b':\n",
        "    print(num1-num2)\n",
        "elif choice =='c':\n",
        "      print(num1*num2)\n",
        "elif choice == 'd':\n",
        "  print(num1/num2)\n",
        "else :\n",
        "  print(\"invalid operation\")"
      ],
      "metadata": {
        "colab": {
          "base_uri": "https://localhost:8080/"
        },
        "id": "XGAiz7p03Nhs",
        "outputId": "bb9c56bb-2736-4ab2-c425-b4c924fbdf22"
      },
      "execution_count": 64,
      "outputs": [
        {
          "output_type": "stream",
          "name": "stdout",
          "text": [
            "please select the operation\n",
            "a.add\n",
            "b. subtract\n",
            "c. multiply\n",
            "d.devision\n",
            "Please enter choice (a / b / c / d): c\n",
            "Enter the value1 5\n",
            "Enter the value2 2\n",
            "10\n"
          ]
        }
      ]
    },
    {
      "cell_type": "code",
      "source": [],
      "metadata": {
        "id": "itG3gHet2UzA"
      },
      "execution_count": null,
      "outputs": []
    }
  ]
}