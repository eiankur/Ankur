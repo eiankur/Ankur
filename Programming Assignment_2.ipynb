{
 "cells": [
  {
   "cell_type": "markdown",
   "id": "4314b9d6",
   "metadata": {},
   "source": [
    "# 1.Write a Python program to convert kilometers to miles?"
   ]
  },
  {
   "cell_type": "code",
   "execution_count": 3,
   "id": "87b2bcdc",
   "metadata": {},
   "outputs": [
    {
     "name": "stdout",
     "output_type": "stream",
     "text": [
      "10\n",
      "6.21371\n"
     ]
    }
   ],
   "source": [
    "km = float(input())\n",
    "miles = float(km*.621371)\n",
    "print(miles)"
   ]
  },
  {
   "cell_type": "markdown",
   "id": "7f0f395d",
   "metadata": {},
   "source": [
    "# 2.Write a Python program to convert Celsius to Fahrenheit?"
   ]
  },
  {
   "cell_type": "code",
   "execution_count": 4,
   "id": "b8f36ae8",
   "metadata": {},
   "outputs": [
    {
     "name": "stdout",
     "output_type": "stream",
     "text": [
      "0\n",
      "32.0\n"
     ]
    }
   ],
   "source": [
    "C = float(input())\n",
    "F = float((C*9/5)+32)\n",
    "print(F)"
   ]
  },
  {
   "cell_type": "markdown",
   "id": "21a2b2be",
   "metadata": {},
   "source": [
    "# 3.Write a Python program to display calendar?"
   ]
  },
  {
   "cell_type": "code",
   "execution_count": 3,
   "id": "0450f176",
   "metadata": {},
   "outputs": [
    {
     "name": "stdout",
     "output_type": "stream",
     "text": [
      "enter the year 2020\n",
      "enter the month 02\n",
      "   February 2020\n",
      "Mo Tu We Th Fr Sa Su\n",
      "                1  2\n",
      " 3  4  5  6  7  8  9\n",
      "10 11 12 13 14 15 16\n",
      "17 18 19 20 21 22 23\n",
      "24 25 26 27 28 29\n",
      "\n"
     ]
    }
   ],
   "source": [
    "import calendar\n",
    "\n",
    "mycal = calendar.month(year,month)\n",
    "year = int(input(\"enter the year \" ))\n",
    "month = int(input(\"enter the month \"))\n",
    "print(mycal)"
   ]
  },
  {
   "cell_type": "markdown",
   "id": "be8b3af8",
   "metadata": {},
   "source": [
    "# 4.Write a Python program to solve quadratic equation?"
   ]
  },
  {
   "cell_type": "code",
   "execution_count": 5,
   "id": "02e76e41",
   "metadata": {},
   "outputs": [
    {
     "name": "stdout",
     "output_type": "stream",
     "text": [
      "enter the value of a 2\n",
      "enter the value of b 5\n",
      "enter the value of c 8\n",
      "The roots are\n",
      "(-1.25-1.5612494995995996j)\n",
      "(-1.25+1.5612494995995996j)\n"
     ]
    }
   ],
   "source": [
    "import cmath\n",
    "\n",
    "a = int(input(\"enter the value of a \"))\n",
    "b = int(input(\"enter the value of b \"))\n",
    "c = int(input(\"enter the value of c \"))\n",
    "\n",
    "# calculating the discriminant\n",
    "dis = (b**2) - (4 * a*c)\n",
    "\n",
    "# find two results\n",
    "ans1 = (-b-cmath.sqrt(dis))/(2 * a)\n",
    "ans2 = (-b + cmath.sqrt(dis))/(2 * a)\n",
    "\n",
    "# printing the results\n",
    "print('The roots are')\n",
    "print(ans1)\n",
    "print(ans2)\n"
   ]
  },
  {
   "cell_type": "markdown",
   "id": "64377063",
   "metadata": {},
   "source": [
    "# 5 Write a Python program to swap two variables without temp variable?"
   ]
  },
  {
   "cell_type": "code",
   "execution_count": 6,
   "id": "257c904c",
   "metadata": {},
   "outputs": [
    {
     "name": "stdout",
     "output_type": "stream",
     "text": [
      "40\n",
      "20\n"
     ]
    }
   ],
   "source": [
    "n1 = 20\n",
    "n2 = 40\n",
    "n1,n2=n2,n1\n",
    "print(n1)\n",
    "print(n2)"
   ]
  },
  {
   "cell_type": "code",
   "execution_count": null,
   "id": "67d1d5ff",
   "metadata": {},
   "outputs": [],
   "source": []
  }
 ],
 "metadata": {
  "kernelspec": {
   "display_name": "Python 3",
   "language": "python",
   "name": "python3"
  },
  "language_info": {
   "codemirror_mode": {
    "name": "ipython",
    "version": 3
   },
   "file_extension": ".py",
   "mimetype": "text/x-python",
   "name": "python",
   "nbconvert_exporter": "python",
   "pygments_lexer": "ipython3",
   "version": "3.8.8"
  }
 },
 "nbformat": 4,
 "nbformat_minor": 5
}
