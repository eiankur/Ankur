{
 "cells": [
  {
   "cell_type": "markdown",
   "id": "ee81a90f",
   "metadata": {},
   "source": [
    "# 1.Write a Python Program to Find the Factorial of a Number?"
   ]
  },
  {
   "cell_type": "code",
   "execution_count": 6,
   "id": "51f59f16",
   "metadata": {},
   "outputs": [
    {
     "name": "stdout",
     "output_type": "stream",
     "text": [
      "4\n",
      "factorial is  24\n"
     ]
    }
   ],
   "source": [
    "a= int(input())\n",
    "f=1\n",
    "for i in range(a,1,-1):\n",
    "    f = f*i\n",
    "print(\"factorial is \", f)\n",
    "    "
   ]
  },
  {
   "cell_type": "markdown",
   "id": "be410e5f",
   "metadata": {},
   "source": [
    "# 2.Write a Python Program to Display the multiplication Table?"
   ]
  },
  {
   "cell_type": "code",
   "execution_count": 9,
   "id": "0c3ebd7f",
   "metadata": {},
   "outputs": [
    {
     "name": "stdout",
     "output_type": "stream",
     "text": [
      "2\n",
      "2 * 1 = 2\n",
      "2 * 2 = 4\n",
      "2 * 3 = 6\n",
      "2 * 4 = 8\n",
      "2 * 5 = 10\n",
      "2 * 6 = 12\n",
      "2 * 7 = 14\n",
      "2 * 8 = 16\n",
      "2 * 9 = 18\n",
      "2 * 10 = 20\n"
     ]
    }
   ],
   "source": [
    "n= int(input())\n",
    "for i in range(1,11):\n",
    "    b= n*i\n",
    "    print(n,\"*\",i,\"=\",b)"
   ]
  },
  {
   "cell_type": "markdown",
   "id": "cf650f1a",
   "metadata": {},
   "source": [
    "# 3.Write a Python Program to Print the Fibonacci sequence?"
   ]
  },
  {
   "cell_type": "code",
   "execution_count": 39,
   "id": "cdcadbcd",
   "metadata": {},
   "outputs": [],
   "source": [
    "def fib(n):\n",
    "    a=1\n",
    "    b=1\n",
    "    output= []\n",
    "    for i in range(n):\n",
    "        output.append(a)\n",
    "        a,b = b, a+b\n",
    "    return output"
   ]
  },
  {
   "cell_type": "code",
   "execution_count": 40,
   "id": "5b7621b8",
   "metadata": {},
   "outputs": [
    {
     "data": {
      "text/plain": [
       "[1, 1, 2, 3, 5, 8, 13, 21, 34, 55]"
      ]
     },
     "execution_count": 40,
     "metadata": {},
     "output_type": "execute_result"
    }
   ],
   "source": [
    "fib(10)\n"
   ]
  },
  {
   "cell_type": "markdown",
   "id": "b61284e1",
   "metadata": {},
   "source": [
    "# 4. Write a Python Program to Check Armstrong Number?"
   ]
  },
  {
   "cell_type": "code",
   "execution_count": 60,
   "id": "d753400c",
   "metadata": {},
   "outputs": [
    {
     "name": "stdout",
     "output_type": "stream",
     "text": [
      "151\n"
     ]
    }
   ],
   "source": [
    "number = int(input())\n",
    "\n",
    "def check_armstrong(num):\n",
    "    if num in range(1,10):\n",
    "        return True\n",
    "    \n",
    "    order = len(str(num))\n",
    "    sum = 0\n",
    "    original = num\n",
    "    while num>0:\n",
    "        digit = num % 10\n",
    "        sum += digit ** order\n",
    "        num = num // 10\n",
    "    if sum == original:\n",
    "            return True\n",
    "            return False\n",
    "    if check_armstrong(number):\n",
    "        print( number, \"number is armstrong\")\n",
    "    else:\n",
    "            print(number, \"number is not a armstrong number\")"
   ]
  },
  {
   "cell_type": "markdown",
   "id": "3203f9e5",
   "metadata": {},
   "source": [
    "# 6.Write a Python Program to Find the Sum of Natural Numbers?"
   ]
  },
  {
   "cell_type": "code",
   "execution_count": 64,
   "id": "58d483d5",
   "metadata": {
    "scrolled": true
   },
   "outputs": [
    {
     "name": "stdout",
     "output_type": "stream",
     "text": [
      "5\n",
      "15\n"
     ]
    }
   ],
   "source": [
    "n= int(input())\n",
    "sum=0\n",
    "i=1\n",
    "while (i<=n):\n",
    "    sum=sum+i\n",
    "    i=i+1\n",
    "print(sum)"
   ]
  },
  {
   "cell_type": "code",
   "execution_count": null,
   "id": "13031935",
   "metadata": {},
   "outputs": [],
   "source": []
  },
  {
   "cell_type": "code",
   "execution_count": null,
   "id": "62f64695",
   "metadata": {},
   "outputs": [],
   "source": []
  }
 ],
 "metadata": {
  "kernelspec": {
   "display_name": "Python 3",
   "language": "python",
   "name": "python3"
  },
  "language_info": {
   "codemirror_mode": {
    "name": "ipython",
    "version": 3
   },
   "file_extension": ".py",
   "mimetype": "text/x-python",
   "name": "python",
   "nbconvert_exporter": "python",
   "pygments_lexer": "ipython3",
   "version": "3.8.8"
  }
 },
 "nbformat": 4,
 "nbformat_minor": 5
}
